{
 "cells": [
  {
   "cell_type": "markdown",
   "metadata": {},
   "source": [
    "# Train, test, and evaluate the model"
   ]
  },
  {
   "cell_type": "code",
   "execution_count": 20,
   "metadata": {},
   "outputs": [],
   "source": [
    "import pandas as pd\n",
    "\n",
    "import matplotlib.pyplot as plt\n",
    "\n",
    "%matplotlib inline\n",
    "\n",
    "from sklearn.neighbors import KNeighborsClassifier\n",
    "from sklearn.model_selection import train_test_split\n",
    "from sklearn import metrics\n",
    "\n",
    "import pickle"
   ]
  },
  {
   "cell_type": "code",
   "execution_count": 21,
   "metadata": {},
   "outputs": [
    {
     "data": {
      "text/plain": [
       "(218486, 8)"
      ]
     },
     "execution_count": 21,
     "metadata": {},
     "output_type": "execute_result"
    }
   ],
   "source": [
    "# load data\n",
    "df = pd.read_csv('data.csv', index_col=0)\n",
    "df.shape"
   ]
  },
  {
   "cell_type": "code",
   "execution_count": 22,
   "metadata": {},
   "outputs": [
    {
     "data": {
      "text/plain": [
       "Index(['available_bikes', 'number', 'temp', 'humidity', 'wind_speed',\n",
       "       'weather_id', 'weekday', 'hour'],\n",
       "      dtype='object')"
      ]
     },
     "execution_count": 22,
     "metadata": {},
     "output_type": "execute_result"
    }
   ],
   "source": [
    "df.columns"
   ]
  },
  {
   "cell_type": "code",
   "execution_count": 23,
   "metadata": {},
   "outputs": [
    {
     "data": {
      "text/html": [
       "<div>\n",
       "<style scoped>\n",
       "    .dataframe tbody tr th:only-of-type {\n",
       "        vertical-align: middle;\n",
       "    }\n",
       "\n",
       "    .dataframe tbody tr th {\n",
       "        vertical-align: top;\n",
       "    }\n",
       "\n",
       "    .dataframe thead th {\n",
       "        text-align: right;\n",
       "    }\n",
       "</style>\n",
       "<table border=\"1\" class=\"dataframe\">\n",
       "  <thead>\n",
       "    <tr style=\"text-align: right;\">\n",
       "      <th></th>\n",
       "      <th>available_bikes</th>\n",
       "      <th>number</th>\n",
       "      <th>temp</th>\n",
       "      <th>humidity</th>\n",
       "      <th>wind_speed</th>\n",
       "      <th>weather_id</th>\n",
       "      <th>weekday</th>\n",
       "      <th>hour</th>\n",
       "    </tr>\n",
       "  </thead>\n",
       "  <tbody>\n",
       "    <tr>\n",
       "      <th>45</th>\n",
       "      <td>9</td>\n",
       "      <td>56</td>\n",
       "      <td>281.41</td>\n",
       "      <td>76.0</td>\n",
       "      <td>2.57</td>\n",
       "      <td>803</td>\n",
       "      <td>0</td>\n",
       "      <td>22</td>\n",
       "    </tr>\n",
       "    <tr>\n",
       "      <th>46</th>\n",
       "      <td>15</td>\n",
       "      <td>48</td>\n",
       "      <td>281.41</td>\n",
       "      <td>76.0</td>\n",
       "      <td>2.57</td>\n",
       "      <td>803</td>\n",
       "      <td>0</td>\n",
       "      <td>22</td>\n",
       "    </tr>\n",
       "    <tr>\n",
       "      <th>47</th>\n",
       "      <td>14</td>\n",
       "      <td>34</td>\n",
       "      <td>281.41</td>\n",
       "      <td>76.0</td>\n",
       "      <td>2.57</td>\n",
       "      <td>803</td>\n",
       "      <td>0</td>\n",
       "      <td>22</td>\n",
       "    </tr>\n",
       "    <tr>\n",
       "      <th>48</th>\n",
       "      <td>15</td>\n",
       "      <td>49</td>\n",
       "      <td>281.41</td>\n",
       "      <td>76.0</td>\n",
       "      <td>2.57</td>\n",
       "      <td>803</td>\n",
       "      <td>0</td>\n",
       "      <td>22</td>\n",
       "    </tr>\n",
       "    <tr>\n",
       "      <th>49</th>\n",
       "      <td>11</td>\n",
       "      <td>65</td>\n",
       "      <td>281.41</td>\n",
       "      <td>76.0</td>\n",
       "      <td>2.57</td>\n",
       "      <td>803</td>\n",
       "      <td>0</td>\n",
       "      <td>22</td>\n",
       "    </tr>\n",
       "  </tbody>\n",
       "</table>\n",
       "</div>"
      ],
      "text/plain": [
       "    available_bikes  number    temp  humidity  wind_speed  weather_id  \\\n",
       "45                9      56  281.41      76.0        2.57         803   \n",
       "46               15      48  281.41      76.0        2.57         803   \n",
       "47               14      34  281.41      76.0        2.57         803   \n",
       "48               15      49  281.41      76.0        2.57         803   \n",
       "49               11      65  281.41      76.0        2.57         803   \n",
       "\n",
       "    weekday  hour  \n",
       "45        0    22  \n",
       "46        0    22  \n",
       "47        0    22  \n",
       "48        0    22  \n",
       "49        0    22  "
      ]
     },
     "execution_count": 23,
     "metadata": {},
     "output_type": "execute_result"
    }
   ],
   "source": [
    "df.head(5)"
   ]
  },
  {
   "cell_type": "code",
   "execution_count": 24,
   "metadata": {},
   "outputs": [
    {
     "data": {
      "text/plain": [
       "available_bikes      int64\n",
       "number               int64\n",
       "temp               float64\n",
       "humidity           float64\n",
       "wind_speed         float64\n",
       "weather_id           int64\n",
       "weekday              int64\n",
       "hour                 int64\n",
       "dtype: object"
      ]
     },
     "execution_count": 24,
     "metadata": {},
     "output_type": "execute_result"
    }
   ],
   "source": [
    "df.dtypes"
   ]
  },
  {
   "cell_type": "code",
   "execution_count": 25,
   "metadata": {},
   "outputs": [
    {
     "data": {
      "text/plain": [
       "available_bikes       int64\n",
       "number             category\n",
       "temp                float64\n",
       "humidity            float64\n",
       "wind_speed          float64\n",
       "weather_id         category\n",
       "weekday               int64\n",
       "hour                  int64\n",
       "dtype: object"
      ]
     },
     "execution_count": 25,
     "metadata": {},
     "output_type": "execute_result"
    }
   ],
   "source": [
    "# categorical features\n",
    "df['number'] = df['number'].astype('category')\n",
    "df['weather_id'] = df['weather_id'].astype('category')\n",
    "df.dtypes"
   ]
  },
  {
   "cell_type": "code",
   "execution_count": 26,
   "metadata": {},
   "outputs": [],
   "source": [
    "# selected features for training/testing\n",
    "features = ['temp', 'humidity', 'wind_speed', 'weather_id', 'weekday', 'hour']"
   ]
  },
  {
   "cell_type": "code",
   "execution_count": 27,
   "metadata": {},
   "outputs": [
    {
     "name": "stdout",
     "output_type": "stream",
     "text": [
      "[56, 48, 34, 49, 65, 77, 61, 90, 25, 74, 97, 116, 114, 22, 19, 112, 107, 106, 105, 40, 30, 51, 43, 62, 17, 11, 95, 6, 59, 57, 68, 98, 92, 13, 93, 7, 83, 28, 44, 12, 24, 27, 8, 101, 10, 5, 79, 73, 53, 72, 54, 18, 50, 103, 9, 76, 47, 78, 38, 108, 111, 85, 84, 75, 87, 94, 23, 16, 71, 63, 109, 15, 2, 66, 41, 82, 21, 36, 104, 29, 67, 4, 26, 33, 3, 39, 115, 58, 86, 37, 45, 32, 52, 110, 42, 102, 55, 64, 100, 96, 91, 99, 89, 31, 80, 69, 117, 113, 88, 507]\n"
     ]
    }
   ],
   "source": [
    "# get all station numbers\n",
    "station_numbers = df['number'].unique().tolist()\n",
    "print(station_numbers)"
   ]
  },
  {
   "cell_type": "code",
   "execution_count": 28,
   "metadata": {},
   "outputs": [],
   "source": [
    "# group by station number\n",
    "df_groups = df.groupby('number')"
   ]
  },
  {
   "cell_type": "code",
   "execution_count": 29,
   "metadata": {},
   "outputs": [
    {
     "name": "stdout",
     "output_type": "stream",
     "text": [
      "Percent of models with r^2 over 60%: 81.81818181818183\n"
     ]
    }
   ],
   "source": [
    "valid = 0\n",
    "\n",
    "# for each station train and test the model, evaluate results\n",
    "for number in station_numbers:\n",
    "    \n",
    "    # get data for station number\n",
    "    dfa = df_groups.get_group(number)\n",
    "    # drop number from data\n",
    "    dfa = dfa.drop('number', axis=1)\n",
    "\n",
    "    X = dfa[features]\n",
    "    y = dfa['available_bikes']\n",
    "    \n",
    "    # get training data and test data\n",
    "    X_train, X_test, y_train, y_test = train_test_split(X, y, test_size=0.3)\n",
    "    \n",
    "    # create and train model\n",
    "    model = KNeighborsClassifier(n_neighbors=5).fit(X_train, y_train)\n",
    "    \n",
    "    # write to a pickle file\n",
    "    with open('models/' + str(number) + '.pkl', 'wb') as file:\n",
    "        pickle.dump(model, file, pickle.HIGHEST_PROTOCOL)\n",
    "    \n",
    "    # get predictions for X_test\n",
    "    test_predictions = model.predict(X_test)\n",
    "    \n",
    "    # count valid models\n",
    "    if metrics.r2_score(y_test, test_predictions)>0.6:\n",
    "        valid += 1\n",
    "    \n",
    "    # display evaluation\n",
    "    #print('===========station ', number,' evaluation===============')\n",
    "    #print('MAE', metrics.mean_absolute_error(y_test, test_predictions))\n",
    "    #print('RMSE', metrics.mean_squared_error(y_test, test_predictions)**0.5)\n",
    "    #print('R^2=', metrics.r2_score(y_test, test_predictions))\n",
    "    #print('========================================================')\n",
    "    \n",
    "    \n",
    "print('Percent of models with r^2 over 60%:', valid / len(station_numbers) * 100)"
   ]
  },
  {
   "cell_type": "markdown",
   "metadata": {},
   "source": [
    "### Get predictions for a given station"
   ]
  },
  {
   "cell_type": "code",
   "execution_count": 30,
   "metadata": {},
   "outputs": [
    {
     "name": "stdout",
     "output_type": "stream",
     "text": [
      "        available_bikes  predicted_available_bikes\n",
      "143                  14                         13\n",
      "256                  13                         13\n",
      "367                  13                         13\n",
      "486                  13                         13\n",
      "596                  13                         13\n",
      "...                 ...                        ...\n",
      "218147               22                         22\n",
      "218265               22                         22\n",
      "218389               22                         22\n",
      "218425               23                         22\n",
      "218512               22                         22\n",
      "\n",
      "[1965 rows x 2 columns]\n"
     ]
    }
   ],
   "source": [
    "# selected features\n",
    "features = ['temp', 'humidity', 'wind_speed', 'weather_id', 'weekday', 'hour']\n",
    "\n",
    "# random station\n",
    "station=110\n",
    "\n",
    "# prepare data\n",
    "dfa = df_groups.get_group(station)\n",
    "dfa = dfa.drop('number', axis=1)\n",
    "\n",
    "X = dfa[features]\n",
    "y = dfa['available_bikes']\n",
    "\n",
    "# load model from file\n",
    "with open('models/'+str(station)+'.pkl', 'rb') as file:\n",
    "    model = pickle.load(file) \n",
    "\n",
    "# get predictions\n",
    "predictions = model.predict(X[features])\n",
    "\n",
    "# create table to compare results\n",
    "actual_vs_predicted = pd.concat([y, pd.DataFrame(predictions, columns=['predicted_available_bikes'], index=y.index)], axis=1)\n",
    "\n",
    "# show actual vs predicted values\n",
    "print(actual_vs_predicted)"
   ]
  },
  {
   "cell_type": "markdown",
   "metadata": {},
   "source": [
    "### Prediction example"
   ]
  },
  {
   "cell_type": "code",
   "execution_count": 31,
   "metadata": {},
   "outputs": [
    {
     "data": {
      "text/plain": [
       "25"
      ]
     },
     "execution_count": 31,
     "metadata": {},
     "output_type": "execute_result"
    }
   ],
   "source": [
    "def predict(station_number, temp=281, humidity=60, wind_speed=0, weather_id=803, week_day=0, hour=12):\n",
    "    # features\n",
    "    data = {\n",
    "        'temp': [temp], \n",
    "        'humidity': [humidity], \n",
    "        'wind_speed': [wind_speed], \n",
    "        'weather_id':[weather_id], \n",
    "        'weekday':[week_day], \n",
    "        'hour':[hour]\n",
    "    }\n",
    "    \n",
    "    # create dataframe\n",
    "    X = pd.DataFrame.from_dict(data)\n",
    "\n",
    "    # load model from file\n",
    "    with open('models/'+str(station_number)+'.pkl', 'rb') as file:\n",
    "        model = pickle.load(file) \n",
    "\n",
    "    # get prediction from model\n",
    "    y = model.predict(X)\n",
    "    \n",
    "    # return the prediction\n",
    "    return int(round(y[0]))\n",
    "    \n",
    "# get a prediction of available bikes for a station\n",
    "predict(station_number=91, week_day=3, hour=20)"
   ]
  },
  {
   "cell_type": "code",
   "execution_count": null,
   "metadata": {},
   "outputs": [],
   "source": []
  }
 ],
 "metadata": {
  "kernelspec": {
   "display_name": "Python 3",
   "language": "python",
   "name": "python3"
  },
  "language_info": {
   "codemirror_mode": {
    "name": "ipython",
    "version": 3
   },
   "file_extension": ".py",
   "mimetype": "text/x-python",
   "name": "python",
   "nbconvert_exporter": "python",
   "pygments_lexer": "ipython3",
   "version": "3.8.3"
  }
 },
 "nbformat": 4,
 "nbformat_minor": 4
}
